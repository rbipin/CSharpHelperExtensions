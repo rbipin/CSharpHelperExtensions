{
 "cells": [
  {
   "cell_type": "code",
   "execution_count": 3,
   "metadata": {},
   "outputs": [
    {
     "ename": "AttributeError",
     "evalue": "'str' object has no attribute 'In'",
     "output_type": "error",
     "traceback": [
      "\u001b[0;31m---------------------------------------------------------------------------\u001b[0m",
      "\u001b[0;31mAttributeError\u001b[0m                            Traceback (most recent call last)",
      "\u001b[1;32m/Users/BRadhakrishnan/Documents/repo/personal/dry-extensions-csharp/sample.ipynb Cell 1\u001b[0m in \u001b[0;36m<cell line: 2>\u001b[0;34m()\u001b[0m\n\u001b[1;32m      <a href='vscode-notebook-cell:/Users/BRadhakrishnan/Documents/repo/personal/dry-extensions-csharp/sample.ipynb#ch0000000?line=0'>1</a>\u001b[0m \u001b[39m#r \"./DryExtensions/bin/Debug/netstandard2.1/DryExtensions.dll\"\u001b[39;00m\n\u001b[0;32m----> <a href='vscode-notebook-cell:/Users/BRadhakrishnan/Documents/repo/personal/dry-extensions-csharp/sample.ipynb#ch0000000?line=1'>2</a>\u001b[0m \u001b[39m\"\u001b[39;49m\u001b[39mMagic\u001b[39;49m\u001b[39m\"\u001b[39;49m\u001b[39m.\u001b[39;49mIn(\u001b[39m\"\u001b[39m\u001b[39mMagic\u001b[39m\u001b[39m\"\u001b[39m, \u001b[39m\"\u001b[39m\u001b[39mBean\u001b[39m\u001b[39m\"\u001b[39m, \u001b[39m\"\u001b[39m\u001b[39mStalk\u001b[39m\u001b[39m\"\u001b[39m)\n",
      "\u001b[0;31mAttributeError\u001b[0m: 'str' object has no attribute 'In'"
     ]
    }
   ],
   "source": [
    "#r \"./DryExtensions/bin/Debug/netstandard2.1/DryExtensions.dll\"\n",
    "\"Magic\".In(\"Magic\", \"Bean\", \"Stalk\")\n"
   ]
  }
 ],
 "metadata": {
  "kernelspec": {
   "display_name": "Python 3.10.4 64-bit",
   "language": "python",
   "name": "python3"
  },
  "language_info": {
   "codemirror_mode": {
    "name": "ipython",
    "version": 3
   },
   "file_extension": ".py",
   "mimetype": "text/x-python",
   "name": "python",
   "nbconvert_exporter": "python",
   "pygments_lexer": "ipython3",
   "version": "3.10.4"
  },
  "orig_nbformat": 4,
  "vscode": {
   "interpreter": {
    "hash": "aee8b7b246df8f9039afb4144a1f6fd8d2ca17a180786b69acc140d282b71a49"
   }
  }
 },
 "nbformat": 4,
 "nbformat_minor": 2
}
